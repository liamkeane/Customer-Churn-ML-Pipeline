{
 "cells": [
  {
   "cell_type": "markdown",
   "id": "245024be",
   "metadata": {},
   "source": [
    "# Customer Churn EDA & Prediction\n",
    "\n",
    "1. Questions asked\n",
    "2. Datasets used\n",
    "3. ETL process\n",
    "4. Technologies used\n",
    "5. Data Preprocessing\n",
    "6. Logistic Regression (ML)\n",
    "7. Conclusions"
   ]
  },
  {
   "cell_type": "markdown",
   "id": "65828235",
   "metadata": {},
   "source": [
    "## 0.5 Importing Libraries & Dependencies"
   ]
  },
  {
   "cell_type": "code",
   "execution_count": 2,
   "id": "fb9ab353",
   "metadata": {},
   "outputs": [],
   "source": [
    "import json\n",
    "import pandas as pd\n",
    "import numpy as np\n",
    "import joblib\n",
    "import os\n",
    "import pymysql\n",
    "import seaborn as sns\n",
    "from datetime import datetime\n",
    "from sqlalchemy import create_engine\n",
    "from sklearn.model_selection import train_test_split\n",
    "from sklearn.compose import ColumnTransformer\n",
    "from sklearn.preprocessing import LabelEncoder, StandardScaler, OneHotEncoder\n",
    "from sklearn.linear_model import LogisticRegression\n",
    "from sklearn.metrics import accuracy_score, classification_report, confusion_matrix, roc_curve, roc_auc_score\n",
    "from sklearn.pipeline import Pipeline\n",
    "import matplotlib.pyplot as plt"
   ]
  },
  {
   "cell_type": "markdown",
   "id": "ef5e6e0e-a509-4c2c-ab4d-24fd21f604a4",
   "metadata": {},
   "source": [
    "## 1. The Dataset"
   ]
  },
  {
   "cell_type": "code",
   "execution_count": null,
   "id": "2c1efbde-f401-4d90-89cb-7110227a53e5",
   "metadata": {},
   "outputs": [],
   "source": []
  },
  {
   "cell_type": "markdown",
   "id": "58fec0ce-0733-4a31-a500-670eeac88d8f",
   "metadata": {},
   "source": [
    "## 2. Questions Asked & Technologies Used"
   ]
  },
  {
   "cell_type": "code",
   "execution_count": null,
   "id": "6ca95ea1-7883-4887-9ecc-e5e13564fd43",
   "metadata": {},
   "outputs": [],
   "source": []
  },
  {
   "cell_type": "markdown",
   "id": "873c65f1-b3a6-4187-91b3-bfbc97f96c8d",
   "metadata": {},
   "source": [
    "## 3. ETL Process"
   ]
  },
  {
   "cell_type": "code",
   "execution_count": null,
   "id": "c6245528-7562-430d-8658-14d823857fd6",
   "metadata": {},
   "outputs": [],
   "source": []
  },
  {
   "cell_type": "markdown",
   "id": "00ec4540-d723-436c-bfa7-e0a245b26fb0",
   "metadata": {},
   "source": [
    "## 4. EDA & Power BI"
   ]
  },
  {
   "cell_type": "code",
   "execution_count": null,
   "id": "bc230e31-9a28-4f95-ace0-c087b528496b",
   "metadata": {},
   "outputs": [],
   "source": []
  },
  {
   "cell_type": "markdown",
   "id": "0e990345",
   "metadata": {},
   "source": [
    "## 5. Data Preprocessing"
   ]
  },
  {
   "cell_type": "code",
   "execution_count": 3,
   "id": "3ccf88a5-d683-4c82-9e4e-158ce21032f8",
   "metadata": {},
   "outputs": [],
   "source": [
    "## Get credentials from environment variables\n",
    "host = os.environ['DB_HOST']\n",
    "port = os.environ['DB_PORT']\n",
    "user = os.environ['DB_USER']\n",
    "password = os.environ['DB_PASSWORD']\n",
    "database = os.environ['DB_NAME']"
   ]
  },
  {
   "cell_type": "code",
   "execution_count": 17,
   "id": "e01f30f1-c753-4d3a-ba50-d18aa88164c8",
   "metadata": {},
   "outputs": [
    {
     "name": "stdout",
     "output_type": "stream",
     "text": [
      "Successfully connected to MySQL database\n"
     ]
    }
   ],
   "source": [
    "# Extract data from mysql db\n",
    "\n",
    "## Create sqlalchemy engine for db connection\n",
    "try:\n",
    "    connection_string = f\"mysql+mysqlconnector://{user}:{password}@{host}:{port}/{database}\"\n",
    "    engine = create_engine(connection_string)\n",
    "    print('Successfully connected to MySQL database')\n",
    "    \n",
    "except Exception as e:\n",
    "    print(f\"Error connecting to database: {e}\")\n",
    "    "
   ]
  },
  {
   "cell_type": "code",
   "execution_count": 18,
   "id": "9f2ca344",
   "metadata": {},
   "outputs": [],
   "source": [
    "## Read in sql query (it's kind of a monster, so I exciled it to its own file)\n",
    "with open('aggregation_query.sql', 'r') as f:\n",
    "    query = f.read()\n",
    "    "
   ]
  },
  {
   "cell_type": "code",
   "execution_count": 19,
   "id": "679c39ef-8e66-4228-a4cb-88eb45f003ab",
   "metadata": {
    "scrolled": true
   },
   "outputs": [
    {
     "name": "stdout",
     "output_type": "stream",
     "text": [
      "Loaded 7043 rows and 32 columns\n",
      "       tenure_months          age  is_under_30  is_senior_citizen  \\\n",
      "count    7043.000000  6832.000000  6832.000000         6832.00000   \n",
      "mean       32.371149    46.527664     0.198917            0.16291   \n",
      "std        24.559481    16.763525     0.399215            0.36931   \n",
      "min         0.000000    19.000000     0.000000            0.00000   \n",
      "25%         9.000000    32.000000     0.000000            0.00000   \n",
      "50%        29.000000    46.000000     0.000000            0.00000   \n",
      "75%        55.000000    60.000000     0.000000            0.00000   \n",
      "max        72.000000    80.000000     1.000000            1.00000   \n",
      "\n",
      "       has_partner  has_dependents  number_of_dependents  \\\n",
      "count  6832.000000     6832.000000           6832.000000   \n",
      "mean      0.481265        0.228923              0.464286   \n",
      "std       0.499685        0.420170              0.958767   \n",
      "min       0.000000        0.000000              0.000000   \n",
      "25%       0.000000        0.000000              0.000000   \n",
      "50%       0.000000        0.000000              0.000000   \n",
      "75%       1.000000        0.000000              0.000000   \n",
      "max       1.000000        1.000000              9.000000   \n",
      "\n",
      "       has_paperless_billing  monthly_charges  total_refunds  ...  \\\n",
      "count            6832.000000      6832.000000    6832.000000  ...   \n",
      "mean                0.591189        64.766606       1.986429  ...   \n",
      "std                 0.491650        30.040447       7.956425  ...   \n",
      "min                 0.000000        18.250000       0.000000  ...   \n",
      "25%                 0.000000        35.650000       0.000000  ...   \n",
      "50%                 1.000000        70.300000       0.000000  ...   \n",
      "75%                 1.000000        89.850000       0.000000  ...   \n",
      "max                 1.000000       118.750000      49.790000  ...   \n",
      "\n",
      "       has_online_backup  has_device_protection  has_tech_support  \\\n",
      "count        6423.000000            6423.000000       6423.000000   \n",
      "mean            0.344076               0.341741          0.286315   \n",
      "std             0.475103               0.474330          0.452074   \n",
      "min             0.000000               0.000000          0.000000   \n",
      "25%             0.000000               0.000000          0.000000   \n",
      "50%             0.000000               0.000000          0.000000   \n",
      "75%             1.000000               1.000000          1.000000   \n",
      "max             1.000000               1.000000          1.000000   \n",
      "\n",
      "            has_tv   has_movies    has_music  has_unlimited_data  \\\n",
      "count  6423.000000  6423.000000  6423.000000         6423.000000   \n",
      "mean      0.383154     0.385957     0.352172            0.676631   \n",
      "std       0.486193     0.486858     0.477684            0.467799   \n",
      "min       0.000000     0.000000     0.000000            0.000000   \n",
      "25%       0.000000     0.000000     0.000000            0.000000   \n",
      "50%       0.000000     0.000000     0.000000            1.000000   \n",
      "75%       1.000000     1.000000     1.000000            1.000000   \n",
      "max       1.000000     1.000000     1.000000            1.000000   \n",
      "\n",
      "       satisfaction_score  churn_score  churn_label  \n",
      "count         7043.000000  7043.000000  7043.000000  \n",
      "mean             3.244924    58.505040     0.265370  \n",
      "std              1.201657    21.170031     0.441561  \n",
      "min              1.000000     5.000000     0.000000  \n",
      "25%              3.000000    40.000000     0.000000  \n",
      "50%              3.000000    61.000000     0.000000  \n",
      "75%              4.000000    75.500000     1.000000  \n",
      "max              5.000000    96.000000     1.000000  \n",
      "\n",
      "[8 rows x 30 columns]\n"
     ]
    }
   ],
   "source": [
    "## Extract data\n",
    "try:\n",
    "    df = pd.read_sql(query, engine)\n",
    "    print(f\"Loaded {len(df)} rows and {len(df.columns)} columns\")\n",
    "    print(df.describe())\n",
    "    \n",
    "except Exception as e:\n",
    "    print(f\"Error loading data: {e}\")\n",
    "    "
   ]
  },
  {
   "cell_type": "markdown",
   "id": "ed8d42d5-b919-480e-a2a1-18cc82d155b9",
   "metadata": {},
   "source": [
    "There appear to be quite a few missing values post-ETL, so we'll need to handle that in our preprocessing (via Imputing) along with the categorical values, numerical standardization, and splitting the data into training and test sets."
   ]
  },
  {
   "cell_type": "code",
   "execution_count": 20,
   "id": "f9725b12-df3e-4c9c-937a-090ba923a30d",
   "metadata": {
    "scrolled": true
   },
   "outputs": [
    {
     "name": "stdout",
     "output_type": "stream",
     "text": [
      "<class 'pandas.core.frame.DataFrame'>\n",
      "Index: 6043 entries, 0 to 7042\n",
      "Data columns (total 32 columns):\n",
      " #   Column                             Non-Null Count  Dtype  \n",
      "---  ------                             --------------  -----  \n",
      " 0   tenure_months                      6043 non-null   int64  \n",
      " 1   age                                6043 non-null   float64\n",
      " 2   is_under_30                        6043 non-null   float64\n",
      " 3   is_senior_citizen                  6043 non-null   float64\n",
      " 4   has_partner                        6043 non-null   float64\n",
      " 5   has_dependents                     6043 non-null   float64\n",
      " 6   number_of_dependents               6043 non-null   float64\n",
      " 7   contract_type                      6043 non-null   object \n",
      " 8   has_paperless_billing              6043 non-null   float64\n",
      " 9   payment_method                     6043 non-null   object \n",
      " 10  monthly_charges                    6043 non-null   float64\n",
      " 11  total_refunds                      6043 non-null   float64\n",
      " 12  total_extra_data_charges           6043 non-null   float64\n",
      " 13  total_long_distance_charges        6043 non-null   float64\n",
      " 14  total_revenue                      6043 non-null   float64\n",
      " 15  has_referred_a_friend              6043 non-null   float64\n",
      " 16  number_of_referrals                6043 non-null   float64\n",
      " 17  has_phone_service                  6043 non-null   float64\n",
      " 18  avg_monthly_long_distance_charges  6043 non-null   float64\n",
      " 19  has_internet_service               6043 non-null   float64\n",
      " 20  avg_monthly_gb_download            6043 non-null   float64\n",
      " 21  has_online_security                6043 non-null   float64\n",
      " 22  has_online_backup                  6043 non-null   float64\n",
      " 23  has_device_protection              6043 non-null   float64\n",
      " 24  has_tech_support                   6043 non-null   float64\n",
      " 25  has_tv                             6043 non-null   float64\n",
      " 26  has_movies                         6043 non-null   float64\n",
      " 27  has_music                          6043 non-null   float64\n",
      " 28  has_unlimited_data                 6043 non-null   float64\n",
      " 29  satisfaction_score                 6043 non-null   int64  \n",
      " 30  churn_score                        6043 non-null   int64  \n",
      " 31  churn_label                        6043 non-null   int64  \n",
      "dtypes: float64(26), int64(4), object(2)\n",
      "memory usage: 1.5+ MB\n"
     ]
    },
    {
     "data": {
      "text/plain": [
       "churn_label                          1.000000\n",
       "churn_score                          0.661853\n",
       "has_internet_service                 0.226659\n",
       "monthly_charges                      0.193941\n",
       "has_paperless_billing                0.191296\n",
       "has_unlimited_data                   0.162486\n",
       "is_senior_citizen                    0.147389\n",
       "age                                  0.109902\n",
       "has_movies                           0.063752\n",
       "has_tv                               0.061664\n",
       "avg_monthly_gb_download              0.049645\n",
       "has_music                            0.047914\n",
       "has_phone_service                    0.013764\n",
       "total_extra_data_charges             0.008300\n",
       "avg_monthly_long_distance_charges    0.007685\n",
       "total_refunds                       -0.029324\n",
       "is_under_30                         -0.053676\n",
       "has_device_protection               -0.067045\n",
       "has_online_backup                   -0.083639\n",
       "has_partner                         -0.146707\n",
       "has_referred_a_friend               -0.147706\n",
       "has_tech_support                    -0.160185\n",
       "has_online_security                 -0.167191\n",
       "number_of_dependents                -0.207707\n",
       "total_long_distance_charges         -0.218667\n",
       "total_revenue                       -0.219018\n",
       "has_dependents                      -0.237361\n",
       "number_of_referrals                 -0.286091\n",
       "tenure_months                       -0.348459\n",
       "satisfaction_score                  -0.753219\n",
       "Name: churn_label, dtype: float64"
      ]
     },
     "execution_count": 20,
     "metadata": {},
     "output_type": "execute_result"
    },
    {
     "data": {
      "text/plain": [
       "<Figure size 1400x700 with 0 Axes>"
      ]
     },
     "metadata": {},
     "output_type": "display_data"
    }
   ],
   "source": [
    "## Given that missingness is random, we'll drop rows with missing values\n",
    "df = df.dropna()\n",
    "df.info()\n",
    "## \n",
    "plt.figure(figsize=(14,7))\n",
    "df.corr(numeric_only=True)['churn_label'].sort_values(ascending = False)"
   ]
  },
  {
   "cell_type": "code",
   "execution_count": 27,
   "id": "9998a11a-b3e8-45ab-a19d-c20753c62dc0",
   "metadata": {},
   "outputs": [],
   "source": [
    "## Remove churn column\n",
    "X = df.drop(columns = ['churn_label'])\n",
    "y = df['churn_label'].values\n",
    "\n",
    "## Splitting up data into training & testing (done first to prevent leakage from standardization)\n",
    "X_train, X_test, y_train, y_test = train_test_split(\n",
    "    X, y, test_size=0.2, random_state=42, stratify=y\n",
    ")\n"
   ]
  },
  {
   "cell_type": "code",
   "execution_count": 22,
   "id": "fd09afb9-bce1-4a02-b2cd-ca5266ab6dfc",
   "metadata": {},
   "outputs": [],
   "source": [
    "## Define columns\n",
    "categorical_cols = X_train.select_dtypes(include=['object']).columns\n",
    "numeric_cols = ['tenure_months', 'age', 'number_of_dependents', 'monthly_charges', 'total_refunds', 'total_extra_data_charges', 'total_long_distance_charges', 'total_revenue', 'number_of_referrals', 'avg_monthly_long_distance_charges', 'avg_monthly_gb_download', 'satisfaction_score', 'churn_score']\n",
    "\n",
    "## Define preprocessing step\n",
    "preprocessor = ColumnTransformer(\n",
    "    transformers=[\n",
    "        ('num', StandardScaler(), numeric_cols),\n",
    "        ('cat', OneHotEncoder(drop='first', handle_unknown='ignore'), categorical_cols)\n",
    "    ]\n",
    ")\n",
    "\n",
    "## Chaining together preprocessing step and training into one obj with Pipeline\n",
    "clf = Pipeline(steps=[\n",
    "    ('preprocessor', preprocessor),\n",
    "    ('model', LogisticRegression(max_iter=1000))\n",
    "])\n"
   ]
  },
  {
   "cell_type": "markdown",
   "id": "7759d766",
   "metadata": {},
   "source": [
    "## 6. Logistic Regression Model"
   ]
  },
  {
   "cell_type": "code",
   "execution_count": 23,
   "id": "daa338c5-1795-4c17-8e38-d5474cb35beb",
   "metadata": {},
   "outputs": [
    {
     "name": "stdout",
     "output_type": "stream",
     "text": [
      "Logistic Regression accuracy is : 0.9669148056244831\n"
     ]
    }
   ],
   "source": [
    "## Fit the model\n",
    "clf.fit(X_train, y_train)\n",
    "\n",
    "## Compute model accuracy\n",
    "accuracy = clf.score(X_test, y_test)\n",
    "print(\"Logistic Regression accuracy is :\", accuracy)\n"
   ]
  },
  {
   "cell_type": "code",
   "execution_count": 24,
   "id": "a5817074-5595-4f7b-b435-7826ff5f5cfb",
   "metadata": {},
   "outputs": [
    {
     "name": "stdout",
     "output_type": "stream",
     "text": [
      "              precision    recall  f1-score   support\n",
      "\n",
      "           0       0.97      0.98      0.98       886\n",
      "           1       0.95      0.92      0.94       323\n",
      "\n",
      "    accuracy                           0.97      1209\n",
      "   macro avg       0.96      0.95      0.96      1209\n",
      "weighted avg       0.97      0.97      0.97      1209\n",
      "\n"
     ]
    }
   ],
   "source": [
    "##\n",
    "y_pred = clf.predict(X_test)\n",
    "y_proba = clf.predict_proba(X_test)[:, 1]   # probability of churn\n",
    "report = classification_report(y_test, y_pred)\n",
    "print(report)\n"
   ]
  },
  {
   "cell_type": "code",
   "execution_count": 25,
   "id": "fb86e72c-cf00-4142-91ae-734b22af79d1",
   "metadata": {},
   "outputs": [
    {
     "data": {
      "image/png": "[encoded data removed]",
      "text/plain": [
       "<Figure size 600x500 with 2 Axes>"
      ]
     },
     "metadata": {},
     "output_type": "display_data"
    }
   ],
   "source": [
    "## Confusion Matrix\n",
    "cm = confusion_matrix(y_test, y_pred)\n",
    "\n",
    "plt.figure(figsize=(6, 5))\n",
    "sns.heatmap(cm, annot=True, fmt=\"d\", cmap=\"Blues\", xticklabels=[\"No Churn\", \"Churn\"], yticklabels=[\"No Churn\", \"Churn\"])\n",
    "plt.ylabel(\"Actual\")\n",
    "plt.xlabel(\"Predicted\")\n",
    "plt.title(\"Confusion Matrix\")\n",
    "plt.show()"
   ]
  },
  {
   "cell_type": "code",
   "execution_count": 26,
   "id": "e048c15f-3060-44cb-925b-1fad5649d873",
   "metadata": {},
   "outputs": [
    {
     "data": {
      "image/png": "[encoded data removed]",
      "text/plain": [
       "<Figure size 600x500 with 1 Axes>"
      ]
     },
     "metadata": {},
     "output_type": "display_data"
    }
   ],
   "source": [
    "## ROC Curve\n",
    "fpr, tpr, thresholds = roc_curve(y_test, y_proba)\n",
    "roc_auc = roc_auc_score(y_test, y_proba)\n",
    "\n",
    "plt.figure(figsize=(6, 5))\n",
    "plt.plot(fpr, tpr, label=f\"ROC Curve (AUC = {roc_auc:.2f})\")\n",
    "plt.plot([0, 1], [0, 1], linestyle=\"--\", color=\"gray\")  # random guess line\n",
    "plt.xlabel(\"False Positive Rate\")\n",
    "plt.ylabel(\"True Positive Rate\")\n",
    "plt.title(\"ROC Curve\")\n",
    "plt.legend(loc=\"lower right\")\n",
    "plt.show()"
   ]
  },
  {
   "cell_type": "markdown",
   "id": "a196081b-0509-4504-a6b0-0230338a0c79",
   "metadata": {},
   "source": [
    "After looking at the correlation between different fields and churn, there are a few extremely strong indicators: churn_score and satisfaction_score. The churn score was calculated by the datasets' creator IBM and is defined as the liklihood of a customer churning from 0-100. Similarly, the satisfaction score is a fictional metric that measure the customer's satisfaction with the company's services from 1-5. It makes sense that both strongly correlate with churn and are likely responsible for this model's uncanny accuracy. It feels unlikely real world data would include such powerful fields, so let's explore further by retraining the model without those two fields. Instead of including redundant code I just added screenshots of the results.\n"
   ]
  },
  {
   "cell_type": "markdown",
   "id": "ba2f3659-1c35-49c4-a84e-b6b9acdd488b",
   "metadata": {},
   "source": [
    "### Retrained model minus churn_score and satisfaction_score\n",
    "![Confusion Matrix](conf_matrix.png)\n",
    "![ROC Curve](roc.png)\n",
    "![Metrics](metrics.png)\n"
   ]
  },
  {
   "cell_type": "markdown",
   "id": "cc099dca-08fb-48ec-a95c-f3d8096f05a9",
   "metadata": {},
   "source": [
    "Looking at each of these visualizations it's immediately noticable that there is quite a drop in performance. In particular, the F1 score for Positive Churn took quite a hit, which makes intuitive sense given satisfaction ratings and churn risk score would correlate quite linearly with churn."
   ]
  }
 ],
 "metadata": {
  "kernelspec": {
   "display_name": "Python 3 (ipykernel)",
   "language": "python",
   "name": "python3"
  },
  "language_info": {
   "codemirror_mode": {
    "name": "ipython",
    "version": 3
   },
   "file_extension": ".py",
   "mimetype": "text/x-python",
   "name": "python",
   "nbconvert_exporter": "python",
   "pygments_lexer": "ipython3",
   "version": "3.11.6"
  }
 },
 "nbformat": 4,
 "nbformat_minor": 5
}
