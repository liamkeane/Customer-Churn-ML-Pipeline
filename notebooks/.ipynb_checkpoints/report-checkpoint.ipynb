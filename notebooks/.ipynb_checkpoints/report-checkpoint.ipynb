{
 "cells": [
  {
   "cell_type": "markdown",
   "id": "245024be",
   "metadata": {},
   "source": [
    "# Customer Churn EDA & Prediction\n",
    "\n",
    "1. Questions asked\n",
    "2. Datasets used\n",
    "3. ETL process\n",
    "4. Technologies used\n",
    "5. Data Preprocessing\n",
    "6. Logistic Regression (ML)\n",
    "7. Conclusions"
   ]
  },
  {
   "cell_type": "markdown",
   "id": "65828235",
   "metadata": {},
   "source": [
    "## 0.5 Importing Libraries & Dependencies"
   ]
  },
  {
   "cell_type": "code",
   "execution_count": 18,
   "id": "fb9ab353",
   "metadata": {},
   "outputs": [],
   "source": [
    "import json\n",
    "import pandas as pd\n",
    "import numpy as np\n",
    "import joblib\n",
    "import os\n",
    "import pymysql\n",
    "from datetime import datetime\n",
    "from sqlalchemy import create_engine\n",
    "from sklearn.model_selection import train_test_split\n",
    "from sklearn.preprocessing import LabelEncoder, StandardScaler\n",
    "from sklearn.linear_model import LogisticRegression\n",
    "from sklearn.metrics import accuracy_score, classification_report, confusion_matrix"
   ]
  },
  {
   "cell_type": "markdown",
   "id": "ef5e6e0e-a509-4c2c-ab4d-24fd21f604a4",
   "metadata": {},
   "source": [
    "## 1. Questions Asked"
   ]
  },
  {
   "cell_type": "markdown",
   "id": "0e990345",
   "metadata": {},
   "source": [
    "##  5. Data Preprocessing"
   ]
  },
  {
   "cell_type": "code",
   "execution_count": 15,
   "id": "3ccf88a5-d683-4c82-9e4e-158ce21032f8",
   "metadata": {},
   "outputs": [],
   "source": [
    "## Get credentials from environment variables\n",
    "host = os.environ['DB_HOST']\n",
    "port = os.environ['DB_PORT']\n",
    "user = os.environ['DB_USER']\n",
    "password = os.environ['DB_PASSWORD']\n",
    "database = os.environ['DB_NAME']"
   ]
  },
  {
   "cell_type": "code",
   "execution_count": null,
   "id": "e01f30f1-c753-4d3a-ba50-d18aa88164c8",
   "metadata": {},
   "outputs": [],
   "source": [
    "# Extract data from mysql db\n",
    "\n",
    "## Create sqlalchemy engine for db connection\n",
    "try:\n",
    "    connection_string = f\"mysql+mysqlconnector://{user}:{password}@{host}:{port}/{database}\"\n",
    "    engine = create_engine(connection_string)\n",
    "    print('Successfully connected to MySQL database')\n",
    "    \n",
    "except Exception as e:\n",
    "    print(f\"Error connecting to database: {e}\")\n",
    "    "
   ]
  },
  {
   "cell_type": "code",
   "execution_count": 35,
   "id": "9f2ca344",
   "metadata": {
    "vscode": {
     "languageId": "plaintext"
    }
   },
   "outputs": [],
   "source": [
    "## Read in sql query (it's kind of a monster, so I exciled it to its own file)\n",
    "with open('aggregation_query.sql', 'r') as f:\n",
    "    query = f.read()\n",
    "    "
   ]
  },
  {
   "cell_type": "code",
   "execution_count": 38,
   "id": "679c39ef-8e66-4228-a4cb-88eb45f003ab",
   "metadata": {},
   "outputs": [
    {
     "name": "stdout",
     "output_type": "stream",
     "text": [
      "Loaded 7043 rows and 42 columns\n"
     ]
    }
   ],
   "source": [
    "## Extract data\n",
    "try:\n",
    "    df = pd.read_sql(query, engine)\n",
    "    print(f\"Loaded {len(df)} rows and {len(df.columns)} columns\")\n",
    "    print(df.head())\n",
    "    print(df.tail())\n",
    "    \n",
    "except Exception as e:\n",
    "    print(f\"Error loading data: {e}\")\n",
    "    "
   ]
  },
  {
   "cell_type": "markdown",
   "id": "ed8d42d5-b919-480e-a2a1-18cc82d155b9",
   "metadata": {},
   "source": [
    "There appear to be quite a few missing values post-ETL, so we'll need to handle that in our preprocessing (via Imputing) along with categorical values, numerical standardization, and splitting the data into training and test sets."
   ]
  },
  {
   "cell_type": "code",
   "execution_count": null,
   "id": "225ecf1a-a1d6-4b03-bd90-9bc74955310b",
   "metadata": {},
   "outputs": [],
   "source": [
    "## Impute missing values\n",
    "\n",
    "\n"
   ]
  },
  {
   "cell_type": "markdown",
   "id": "7759d766",
   "metadata": {},
   "source": [
    "## 6. Logistic Regression Model"
   ]
  },
  {
   "cell_type": "code",
   "execution_count": null,
   "id": "daa338c5-1795-4c17-8e38-d5474cb35beb",
   "metadata": {},
   "outputs": [],
   "source": []
  }
 ],
 "metadata": {
  "kernelspec": {
   "display_name": "Python 3 (ipykernel)",
   "language": "python",
   "name": "python3"
  },
  "language_info": {
   "codemirror_mode": {
    "name": "ipython",
    "version": 3
   },
   "file_extension": ".py",
   "mimetype": "text/x-python",
   "name": "python",
   "nbconvert_exporter": "python",
   "pygments_lexer": "ipython3",
   "version": "3.11.6"
  }
 },
 "nbformat": 4,
 "nbformat_minor": 5
}
